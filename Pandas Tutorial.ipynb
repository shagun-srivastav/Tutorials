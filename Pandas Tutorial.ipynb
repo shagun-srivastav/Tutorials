{
 "cells": [
  {
   "cell_type": "code",
   "execution_count": 64,
   "metadata": {},
   "outputs": [
    {
     "name": "stdout",
     "output_type": "stream",
     "text": [
      "    cars  passings\n",
      "0    BMW         3\n",
      "1  Volvo         7\n",
      "2   Ford         2\n"
     ]
    }
   ],
   "source": [
    "import pandas as pd\n",
    "\n",
    "mydataset = {\n",
    "  'cars': [\"BMW\", \"Volvo\", \"Ford\"],\n",
    "  'passings': [3, 7, 2]\n",
    "}\n",
    "\n",
    "var = pd.DataFrame(mydataset)\n",
    "\n",
    "print(var) "
   ]
  },
  {
   "cell_type": "code",
   "execution_count": 65,
   "metadata": {},
   "outputs": [
    {
     "name": "stdout",
     "output_type": "stream",
     "text": [
      "0.23.2\n"
     ]
    }
   ],
   "source": [
    "print(pd.__version__) "
   ]
  },
  {
   "cell_type": "code",
   "execution_count": 66,
   "metadata": {},
   "outputs": [
    {
     "name": "stdout",
     "output_type": "stream",
     "text": [
      "0     1\n",
      "1     2\n",
      "2     3\n",
      "3     4\n",
      "4    10\n",
      "dtype: int64\n"
     ]
    }
   ],
   "source": [
    "#Series\n",
    "a = [1,2,3,4,10]\n",
    "\n",
    "var = pd.Series(a)\n",
    "print(var)"
   ]
  },
  {
   "cell_type": "code",
   "execution_count": 67,
   "metadata": {},
   "outputs": [
    {
     "name": "stdout",
     "output_type": "stream",
     "text": [
      "A     1\n",
      "B     2\n",
      "C     3\n",
      "D     4\n",
      "E    10\n",
      "dtype: int64\n",
      "3\n"
     ]
    }
   ],
   "source": [
    "#print(var[1])\n",
    "\n",
    "#Labels\n",
    "\n",
    "var = pd.Series(a, index = ['A','B','C','D','E'])\n",
    "print(var)\n",
    "print(var['C'])"
   ]
  },
  {
   "cell_type": "code",
   "execution_count": 68,
   "metadata": {},
   "outputs": [
    {
     "name": "stdout",
     "output_type": "stream",
     "text": [
      "Mon    Day 1\n",
      "Tue    Day 2\n",
      "Sun    Day 7\n",
      "dtype: object\n"
     ]
    }
   ],
   "source": [
    "#Pandas series from dictionary\n",
    "\n",
    "\n",
    "a = {  \"Mon\" : \"Day 1\",\n",
    "        \"Tue\": \"Day 2\",\n",
    "      \"Sun\" : \"Day 7\"\n",
    "    }\n",
    "\n",
    "var = pd.Series(a)\n",
    "print(var)"
   ]
  },
  {
   "cell_type": "code",
   "execution_count": 69,
   "metadata": {},
   "outputs": [
    {
     "name": "stdout",
     "output_type": "stream",
     "text": [
      "   calories  duration\n",
      "0       420        50\n",
      "1       380        40\n",
      "2       390        45\n"
     ]
    }
   ],
   "source": [
    "#Dataframes from 2 Series\n",
    "\n",
    "\n",
    "data = {\n",
    "  \"calories\": [420, 380, 390],\n",
    "  \"duration\": [50, 40, 45]\n",
    "}\n",
    "\n",
    "var = pd.DataFrame(data)\n",
    "\n",
    "print(var)"
   ]
  },
  {
   "cell_type": "code",
   "execution_count": 70,
   "metadata": {},
   "outputs": [
    {
     "name": "stdout",
     "output_type": "stream",
     "text": [
      "   calories  duration\n",
      "0       420        50\n",
      "1       380        40\n",
      "2       390        45\n"
     ]
    }
   ],
   "source": [
    "#Pandas Dataframe\n",
    "\n",
    "data = {\n",
    "  \"calories\": [420, 380, 390],\n",
    "  \"duration\": [50, 40, 45]\n",
    "}\n",
    "\n",
    "df = pd.DataFrame(data)\n",
    "\n",
    "print(df)\n"
   ]
  },
  {
   "cell_type": "code",
   "execution_count": 71,
   "metadata": {},
   "outputs": [
    {
     "name": "stdout",
     "output_type": "stream",
     "text": [
      "   calories  duration\n",
      "0       420        50\n",
      "1       380        40\n",
      "2       390        45\n"
     ]
    }
   ],
   "source": [
    "#Using loc to return one or more row(S)\n",
    "\n",
    "print(df.loc[[0,1,2]])"
   ]
  },
  {
   "cell_type": "code",
   "execution_count": 72,
   "metadata": {},
   "outputs": [
    {
     "name": "stdout",
     "output_type": "stream",
     "text": [
      "      calories  duration\n",
      "Val1       420        50\n",
      "Val2       380        40\n",
      "Val3       390        45\n",
      "calories    380\n",
      "duration     40\n",
      "Name: Val2, dtype: int64\n"
     ]
    }
   ],
   "source": [
    "#Renaming index and using loc\n",
    "\n",
    "df = pd.DataFrame(data, index = [\"Val1\",\"Val2\",\"Val3\"])\n",
    "print(df)\n",
    "print(df.loc[\"Val2\"])"
   ]
  },
  {
   "cell_type": "code",
   "execution_count": 73,
   "metadata": {},
   "outputs": [
    {
     "name": "stdout",
     "output_type": "stream",
     "text": [
      "   Duration          Date  Pulse  Maxpulse  Calories\n",
      "0        60  '2020/12/01'    110       130     409.1\n",
      "1        60  '2020/12/02'    117       145     479.0\n",
      "2        60  '2020/12/03'    103       135     340.0\n",
      "3        45  '2020/12/04'    109       175     282.4\n",
      "4        45  '2020/12/05'    117       148     406.0\n"
     ]
    }
   ],
   "source": [
    "#Loading CSV\n",
    "df = pd.read_csv(\"C:/Users/Shagun/Downloads/Data1.csv\")\n",
    "print(df.head())"
   ]
  },
  {
   "cell_type": "code",
   "execution_count": 74,
   "metadata": {},
   "outputs": [
    {
     "name": "stdout",
     "output_type": "stream",
     "text": [
      "     Duration  Pulse  Maxpulse  Calories\n",
      "0          60    110       130     409.1\n",
      "1          60    117       145     479.0\n",
      "10         60    103       147     329.3\n",
      "100        20     95       112      77.7\n",
      "101        90     90       110     500.0\n"
     ]
    }
   ],
   "source": [
    "#Reading json\n",
    "\n",
    "df2 = pd.read_json(\"C:/Users/Shagun/Downloads/data.json\")\n",
    "print(df2.head())\n",
    "#to_string() to print entire file\n",
    "#print(df2.to_string())"
   ]
  },
  {
   "cell_type": "code",
   "execution_count": 75,
   "metadata": {},
   "outputs": [
    {
     "name": "stdout",
     "output_type": "stream",
     "text": [
      "    Duration          Date  Pulse  Maxpulse  Calories\n",
      "22        45           NaN    100       119     282.0\n",
      "23        60  '2020/12/23'    130       101     300.0\n",
      "24        45  '2020/12/24'    105       132     246.0\n",
      "25        60  '2020/12/25'    102       126     334.5\n",
      "26        60      20201226    100       120     250.0\n",
      "27        60  '2020/12/27'     92       118     241.0\n",
      "28        60  '2020/12/28'    103       132       NaN\n",
      "29        60  '2020/12/29'    100       132     280.0\n",
      "30        60  '2020/12/30'    102       129     380.3\n",
      "31        60  '2020/12/31'     92       115     243.0\n",
      "<class 'pandas.core.frame.DataFrame'>\n",
      "RangeIndex: 32 entries, 0 to 31\n",
      "Data columns (total 5 columns):\n",
      "Duration    32 non-null int64\n",
      "Date        31 non-null object\n",
      "Pulse       32 non-null int64\n",
      "Maxpulse    32 non-null int64\n",
      "Calories    30 non-null float64\n",
      "dtypes: float64(1), int64(3), object(1)\n",
      "memory usage: 1.3+ KB\n",
      "None\n"
     ]
    }
   ],
   "source": [
    "print(df.tail(10)) #last n number of rows, here n = 10\n",
    "print(df.info())  #info about data set "
   ]
  },
  {
   "cell_type": "code",
   "execution_count": 76,
   "metadata": {},
   "outputs": [
    {
     "name": "stdout",
     "output_type": "stream",
     "text": [
      "    Duration          Date  Pulse  Maxpulse  Calories\n",
      "0         60  '2020/12/01'    110       130     409.1\n",
      "1         60  '2020/12/02'    117       145     479.0\n",
      "2         60  '2020/12/03'    103       135     340.0\n",
      "3         45  '2020/12/04'    109       175     282.4\n",
      "4         45  '2020/12/05'    117       148     406.0\n",
      "5         60  '2020/12/06'    102       127     300.0\n",
      "6         60  '2020/12/07'    110       136     374.0\n",
      "7        450  '2020/12/08'    104       134     253.3\n",
      "8         30  '2020/12/09'    109       133     195.1\n",
      "9         60  '2020/12/10'     98       124     269.0\n",
      "10        60  '2020/12/11'    103       147     329.3\n",
      "11        60  '2020/12/12'    100       120     250.7\n",
      "12        60  '2020/12/12'    100       120     250.7\n",
      "13        60  '2020/12/13'    106       128     345.3\n",
      "14        60  '2020/12/14'    104       132     379.3\n",
      "15        60  '2020/12/15'     98       123     275.0\n",
      "16        60  '2020/12/16'     98       120     215.2\n",
      "17        60  '2020/12/17'    100       120     300.0\n",
      "19        60  '2020/12/19'    103       123     323.0\n",
      "20        45  '2020/12/20'     97       125     243.0\n",
      "21        60  '2020/12/21'    108       131     364.2\n",
      "23        60  '2020/12/23'    130       101     300.0\n",
      "24        45  '2020/12/24'    105       132     246.0\n",
      "25        60  '2020/12/25'    102       126     334.5\n",
      "26        60      20201226    100       120     250.0\n",
      "27        60  '2020/12/27'     92       118     241.0\n",
      "29        60  '2020/12/29'    100       132     280.0\n",
      "30        60  '2020/12/30'    102       129     380.3\n",
      "31        60  '2020/12/31'     92       115     243.0\n"
     ]
    }
   ],
   "source": [
    "# Cleaning data :\n",
    "# 1. Wrong data type \n",
    "# 2. Empty Cells\n",
    "# 3. Duplicates\n",
    "# 4. Wrong data\n",
    "\n",
    "#Remove empty cells\n",
    "\n",
    "#print(df)\n",
    "\n",
    "#df1 = df.dropna()\n",
    "#print(df1)\n",
    "\n",
    "df.dropna(inplace = True)\n",
    "print(df)\n"
   ]
  },
  {
   "cell_type": "code",
   "execution_count": 77,
   "metadata": {},
   "outputs": [
    {
     "name": "stdout",
     "output_type": "stream",
     "text": [
      "    Duration          Date  Pulse  Maxpulse  Calories\n",
      "0         60  '2020/12/01'    110       130     409.1\n",
      "1         60  '2020/12/02'    117       145     479.0\n",
      "2         60  '2020/12/03'    103       135     340.0\n",
      "3         45  '2020/12/04'    109       175     282.4\n",
      "4         45  '2020/12/05'    117       148     406.0\n",
      "5         60  '2020/12/06'    102       127     300.0\n",
      "6         60  '2020/12/07'    110       136     374.0\n",
      "7        450  '2020/12/08'    104       134     253.3\n",
      "8         30  '2020/12/09'    109       133     195.1\n",
      "9         60  '2020/12/10'     98       124     269.0\n",
      "10        60  '2020/12/11'    103       147     329.3\n",
      "11        60  '2020/12/12'    100       120     250.7\n",
      "12        60  '2020/12/12'    100       120     250.7\n",
      "13        60  '2020/12/13'    106       128     345.3\n",
      "14        60  '2020/12/14'    104       132     379.3\n",
      "15        60  '2020/12/15'     98       123     275.0\n",
      "16        60  '2020/12/16'     98       120     215.2\n",
      "17        60  '2020/12/17'    100       120     300.0\n",
      "19        60  '2020/12/19'    103       123     323.0\n",
      "20        45  '2020/12/20'     97       125     243.0\n",
      "21        60  '2020/12/21'    108       131     364.2\n",
      "23        60  '2020/12/23'    130       101     300.0\n",
      "24        45  '2020/12/24'    105       132     246.0\n",
      "25        60  '2020/12/25'    102       126     334.5\n",
      "26        60      20201226    100       120     250.0\n",
      "27        60  '2020/12/27'     92       118     241.0\n",
      "29        60  '2020/12/29'    100       132     280.0\n",
      "30        60  '2020/12/30'    102       129     380.3\n",
      "31        60  '2020/12/31'     92       115     243.0\n"
     ]
    }
   ],
   "source": [
    "#Instead of deleting empty, populate with data \n",
    "\n",
    "#For all empty cells\n",
    "#df = pd.read_csv(\"C:/Users/Shagun/Downloads/Data1.csv\")\n",
    "df.fillna(150, inplace = True)\n",
    "print(df)\n",
    "\n"
   ]
  },
  {
   "cell_type": "code",
   "execution_count": 78,
   "metadata": {},
   "outputs": [
    {
     "name": "stdout",
     "output_type": "stream",
     "text": [
      "    Duration          Date  Pulse  Maxpulse  Calories\n",
      "0         60  '2020/12/01'    110       130     409.1\n",
      "1         60  '2020/12/02'    117       145     479.0\n",
      "2         60  '2020/12/03'    103       135     340.0\n",
      "3         45  '2020/12/04'    109       175     282.4\n",
      "4         45  '2020/12/05'    117       148     406.0\n",
      "5         60  '2020/12/06'    102       127     300.0\n",
      "6         60  '2020/12/07'    110       136     374.0\n",
      "7        450  '2020/12/08'    104       134     253.3\n",
      "8         30  '2020/12/09'    109       133     195.1\n",
      "9         60  '2020/12/10'     98       124     269.0\n",
      "10        60  '2020/12/11'    103       147     329.3\n",
      "11        60  '2020/12/12'    100       120     250.7\n",
      "12        60  '2020/12/12'    100       120     250.7\n",
      "13        60  '2020/12/13'    106       128     345.3\n",
      "14        60  '2020/12/14'    104       132     379.3\n",
      "15        60  '2020/12/15'     98       123     275.0\n",
      "16        60  '2020/12/16'     98       120     215.2\n",
      "17        60  '2020/12/17'    100       120     300.0\n",
      "19        60  '2020/12/19'    103       123     323.0\n",
      "20        45  '2020/12/20'     97       125     243.0\n",
      "21        60  '2020/12/21'    108       131     364.2\n",
      "23        60  '2020/12/23'    130       101     300.0\n",
      "24        45  '2020/12/24'    105       132     246.0\n",
      "25        60  '2020/12/25'    102       126     334.5\n",
      "26        60      20201226    100       120     250.0\n",
      "27        60  '2020/12/27'     92       118     241.0\n",
      "29        60  '2020/12/29'    100       132     280.0\n",
      "30        60  '2020/12/30'    102       129     380.3\n",
      "31        60  '2020/12/31'     92       115     243.0\n"
     ]
    }
   ],
   "source": [
    "#For specified column\n",
    "#df = pd.read_csv(\"C:/Users/Shagun/Downloads/Data1.csv\")\n",
    "df['Calories'].fillna(150, inplace = True)\n",
    "print(df)"
   ]
  },
  {
   "cell_type": "code",
   "execution_count": 79,
   "metadata": {},
   "outputs": [
    {
     "name": "stdout",
     "output_type": "stream",
     "text": [
      "    Duration          Date  Pulse  Maxpulse  Calories\n",
      "0         60  '2020/12/01'    110       130    409.10\n",
      "1         60  '2020/12/02'    117       145    479.00\n",
      "2         60  '2020/12/03'    103       135    340.00\n",
      "3         45  '2020/12/04'    109       175    282.40\n",
      "4         45  '2020/12/05'    117       148    406.00\n",
      "5         60  '2020/12/06'    102       127    300.00\n",
      "6         60  '2020/12/07'    110       136    374.00\n",
      "7        450  '2020/12/08'    104       134    253.30\n",
      "8         30  '2020/12/09'    109       133    195.10\n",
      "9         60  '2020/12/10'     98       124    269.00\n",
      "10        60  '2020/12/11'    103       147    329.30\n",
      "11        60  '2020/12/12'    100       120    250.70\n",
      "12        60  '2020/12/12'    100       120    250.70\n",
      "13        60  '2020/12/13'    106       128    345.30\n",
      "14        60  '2020/12/14'    104       132    379.30\n",
      "15        60  '2020/12/15'     98       123    275.00\n",
      "16        60  '2020/12/16'     98       120    215.20\n",
      "17        60  '2020/12/17'    100       120    300.00\n",
      "18        45  '2020/12/18'     90       112    304.68\n",
      "19        60  '2020/12/19'    103       123    323.00\n",
      "20        45  '2020/12/20'     97       125    243.00\n",
      "21        60  '2020/12/21'    108       131    364.20\n",
      "22        45           NaN    100       119    282.00\n",
      "23        60  '2020/12/23'    130       101    300.00\n",
      "24        45  '2020/12/24'    105       132    246.00\n",
      "25        60  '2020/12/25'    102       126    334.50\n",
      "26        60      20201226    100       120    250.00\n",
      "27        60  '2020/12/27'     92       118    241.00\n",
      "28        60  '2020/12/28'    103       132    304.68\n",
      "29        60  '2020/12/29'    100       132    280.00\n",
      "30        60  '2020/12/30'    102       129    380.30\n",
      "31        60  '2020/12/31'     92       115    243.00\n"
     ]
    }
   ],
   "source": [
    "#Common way to replace using mean,mode,median\n",
    "\n",
    "\n",
    "#For specified column\n",
    "df = pd.read_csv(\"C:/Users/Shagun/Downloads/Data1.csv\")\n",
    "#mean\n",
    "m = df['Calories'].mean()\n",
    "df['Calories'].fillna(m, inplace = True)\n",
    "print(df)\n",
    "\n",
    "# median\n",
    "# m = df['Calories'].median()\n",
    "# df['Calories'].fillna(m, inplace = True)\n",
    "# mode\n",
    "# m = df['Calories'].mode()[0]\n",
    "# df['Calories'].fillna(m, inplace = True)"
   ]
  },
  {
   "cell_type": "code",
   "execution_count": 80,
   "metadata": {},
   "outputs": [
    {
     "name": "stdout",
     "output_type": "stream",
     "text": [
      "    Duration       Date  Pulse  Maxpulse  Calories\n",
      "0         60 2020-12-01    110       130    409.10\n",
      "1         60 2020-12-02    117       145    479.00\n",
      "2         60 2020-12-03    103       135    340.00\n",
      "3         45 2020-12-04    109       175    282.40\n",
      "4         45 2020-12-05    117       148    406.00\n",
      "5         60 2020-12-06    102       127    300.00\n",
      "6         60 2020-12-07    110       136    374.00\n",
      "7        450 2020-12-08    104       134    253.30\n",
      "8         30 2020-12-09    109       133    195.10\n",
      "9         60 2020-12-10     98       124    269.00\n",
      "10        60 2020-12-11    103       147    329.30\n",
      "11        60 2020-12-12    100       120    250.70\n",
      "12        60 2020-12-12    100       120    250.70\n",
      "13        60 2020-12-13    106       128    345.30\n",
      "14        60 2020-12-14    104       132    379.30\n",
      "15        60 2020-12-15     98       123    275.00\n",
      "16        60 2020-12-16     98       120    215.20\n",
      "17        60 2020-12-17    100       120    300.00\n",
      "18        45 2020-12-18     90       112    304.68\n",
      "19        60 2020-12-19    103       123    323.00\n",
      "20        45 2020-12-20     97       125    243.00\n",
      "21        60 2020-12-21    108       131    364.20\n",
      "22        45        NaT    100       119    282.00\n",
      "23        60 2020-12-23    130       101    300.00\n",
      "24        45 2020-12-24    105       132    246.00\n",
      "25        60 2020-12-25    102       126    334.50\n",
      "26        60 2020-12-26    100       120    250.00\n",
      "27        60 2020-12-27     92       118    241.00\n",
      "28        60 2020-12-28    103       132    304.68\n",
      "29        60 2020-12-29    100       132    280.00\n",
      "30        60 2020-12-30    102       129    380.30\n",
      "31        60 2020-12-31     92       115    243.00\n",
      "    Duration       Date  Pulse  Maxpulse  Calories\n",
      "0         60 2020-12-01    110       130    409.10\n",
      "1         60 2020-12-02    117       145    479.00\n",
      "2         60 2020-12-03    103       135    340.00\n",
      "3         45 2020-12-04    109       175    282.40\n",
      "4         45 2020-12-05    117       148    406.00\n",
      "5         60 2020-12-06    102       127    300.00\n",
      "6         60 2020-12-07    110       136    374.00\n",
      "7        450 2020-12-08    104       134    253.30\n",
      "8         30 2020-12-09    109       133    195.10\n",
      "9         60 2020-12-10     98       124    269.00\n",
      "10        60 2020-12-11    103       147    329.30\n",
      "11        60 2020-12-12    100       120    250.70\n",
      "12        60 2020-12-12    100       120    250.70\n",
      "13        60 2020-12-13    106       128    345.30\n",
      "14        60 2020-12-14    104       132    379.30\n",
      "15        60 2020-12-15     98       123    275.00\n",
      "16        60 2020-12-16     98       120    215.20\n",
      "17        60 2020-12-17    100       120    300.00\n",
      "18        45 2020-12-18     90       112    304.68\n",
      "19        60 2020-12-19    103       123    323.00\n",
      "20        45 2020-12-20     97       125    243.00\n",
      "21        60 2020-12-21    108       131    364.20\n",
      "23        60 2020-12-23    130       101    300.00\n",
      "24        45 2020-12-24    105       132    246.00\n",
      "25        60 2020-12-25    102       126    334.50\n",
      "26        60 2020-12-26    100       120    250.00\n",
      "27        60 2020-12-27     92       118    241.00\n",
      "28        60 2020-12-28    103       132    304.68\n",
      "29        60 2020-12-29    100       132    280.00\n",
      "30        60 2020-12-30    102       129    380.30\n",
      "31        60 2020-12-31     92       115    243.00\n"
     ]
    }
   ],
   "source": [
    "#Correct data type\n",
    "#df= pd.read_csv(\"C:/Users/Shagun/Downloads/Data1.csv\")\n",
    "#print(df)\n",
    "\n",
    "#Need to correct row 22 and 26 date values\n",
    "df['Date']= pd.to_datetime(df['Date'])\n",
    "print(df)\n",
    "\n",
    "#removing invalid date type row values\n",
    "df.dropna(subset=['Date'],inplace=True)\n",
    "print(df)\n"
   ]
  },
  {
   "cell_type": "code",
   "execution_count": 81,
   "metadata": {},
   "outputs": [
    {
     "name": "stdout",
     "output_type": "stream",
     "text": [
      "    Duration       Date  Pulse  Maxpulse  Calories\n",
      "0         60 2020-12-01    110       130    409.10\n",
      "1         60 2020-12-02    117       145    479.00\n",
      "2         60 2020-12-03    103       135    340.00\n",
      "3         45 2020-12-04    109       175    282.40\n",
      "4         45 2020-12-05    117       148    406.00\n",
      "5         60 2020-12-06    102       127    300.00\n",
      "6         60 2020-12-07    110       136    374.00\n",
      "7         60 2020-12-08    104       134    253.30\n",
      "8         30 2020-12-09    109       133    195.10\n",
      "9         60 2020-12-10     98       124    269.00\n",
      "10        60 2020-12-11    103       147    329.30\n",
      "11        60 2020-12-12    100       120    250.70\n",
      "12        60 2020-12-12    100       120    250.70\n",
      "13        60 2020-12-13    106       128    345.30\n",
      "14        60 2020-12-14    104       132    379.30\n",
      "15        60 2020-12-15     98       123    275.00\n",
      "16        60 2020-12-16     98       120    215.20\n",
      "17        60 2020-12-17    100       120    300.00\n",
      "18        45 2020-12-18     90       112    304.68\n",
      "19        60 2020-12-19    103       123    323.00\n",
      "20        45 2020-12-20     97       125    243.00\n",
      "21        60 2020-12-21    108       131    364.20\n",
      "23        60 2020-12-23    130       101    300.00\n",
      "24        45 2020-12-24    105       132    246.00\n",
      "25        60 2020-12-25    102       126    334.50\n",
      "26        60 2020-12-26    100       120    250.00\n",
      "27        60 2020-12-27     92       118    241.00\n",
      "28        60 2020-12-28    103       132    304.68\n",
      "29        60 2020-12-29    100       132    280.00\n",
      "30        60 2020-12-30    102       129    380.30\n",
      "31        60 2020-12-31     92       115    243.00\n"
     ]
    }
   ],
   "source": [
    "#Working with wrong values ( values that dont seem right)\n",
    "\n",
    "#df = pd.read_csv(\"C:/Users/Shagun/Downloads/Data1.csv\")\n",
    "#print(df)\n",
    "#The duration value in column 7 is 450 whereas all other values for the same vary between 30 and 60\n",
    "\n",
    "#1. Replace  \n",
    "#df.loc[7, 'Duration'] = 45\n",
    "#print(df)\n",
    "\n",
    "\n",
    "for x in df.index:\n",
    "    if df.loc[x,'Duration'] > 60:\n",
    "        df.loc[x,'Duration'] = 60\n",
    "print(df)\n",
    "\n",
    "# #2.Remove\n",
    "# for x in df.index:\n",
    "#     if df.loc[x,'Duration'] > 60:\n",
    "#         df.drop(x inplace = True)"
   ]
  },
  {
   "cell_type": "code",
   "execution_count": 82,
   "metadata": {},
   "outputs": [
    {
     "name": "stdout",
     "output_type": "stream",
     "text": [
      "    Duration       Date  Pulse  Maxpulse  Calories\n",
      "0         60 2020-12-01    110       130    409.10\n",
      "1         60 2020-12-02    117       145    479.00\n",
      "2         60 2020-12-03    103       135    340.00\n",
      "3         45 2020-12-04    109       175    282.40\n",
      "4         45 2020-12-05    117       148    406.00\n",
      "5         60 2020-12-06    102       127    300.00\n",
      "6         60 2020-12-07    110       136    374.00\n",
      "7         60 2020-12-08    104       134    253.30\n",
      "8         30 2020-12-09    109       133    195.10\n",
      "9         60 2020-12-10     98       124    269.00\n",
      "10        60 2020-12-11    103       147    329.30\n",
      "11        60 2020-12-12    100       120    250.70\n",
      "13        60 2020-12-13    106       128    345.30\n",
      "14        60 2020-12-14    104       132    379.30\n",
      "15        60 2020-12-15     98       123    275.00\n",
      "16        60 2020-12-16     98       120    215.20\n",
      "17        60 2020-12-17    100       120    300.00\n",
      "18        45 2020-12-18     90       112    304.68\n",
      "19        60 2020-12-19    103       123    323.00\n",
      "20        45 2020-12-20     97       125    243.00\n",
      "21        60 2020-12-21    108       131    364.20\n",
      "23        60 2020-12-23    130       101    300.00\n",
      "24        45 2020-12-24    105       132    246.00\n",
      "25        60 2020-12-25    102       126    334.50\n",
      "26        60 2020-12-26    100       120    250.00\n",
      "27        60 2020-12-27     92       118    241.00\n",
      "28        60 2020-12-28    103       132    304.68\n",
      "29        60 2020-12-29    100       132    280.00\n",
      "30        60 2020-12-30    102       129    380.30\n",
      "31        60 2020-12-31     92       115    243.00\n"
     ]
    }
   ],
   "source": [
    "#Check for duplicates\n",
    "\n",
    "#print(df.duplicated())\n",
    "#12th row is a duplicate\n",
    "df.drop_duplicates(inplace = True)\n",
    "print(df)"
   ]
  },
  {
   "cell_type": "code",
   "execution_count": 83,
   "metadata": {},
   "outputs": [
    {
     "name": "stdout",
     "output_type": "stream",
     "text": [
      "          Duration     Pulse  Maxpulse  Calories\n",
      "Duration  1.000000 -0.083933 -0.281117  0.292776\n",
      "Pulse    -0.083933  1.000000  0.261426  0.478723\n",
      "Maxpulse -0.281117  0.261426  1.000000  0.329600\n",
      "Calories  0.292776  0.478723  0.329600  1.000000\n"
     ]
    }
   ],
   "source": [
    "#Data Correlation \n",
    "\n",
    "print(df.corr())"
   ]
  },
  {
   "cell_type": "code",
   "execution_count": 84,
   "metadata": {},
   "outputs": [
    {
     "data": {
      "image/png": "[encoded data removed]",
      "text/plain": [
       "<Figure size 432x288 with 1 Axes>"
      ]
     },
     "metadata": {},
     "output_type": "display_data"
    }
   ],
   "source": [
    "#Pandas Plotting\n",
    "\n",
    "import matplotlib.pyplot as plt\n",
    "\n",
    "df.plot()\n",
    "plt.show()"
   ]
  },
  {
   "cell_type": "code",
   "execution_count": 85,
   "metadata": {},
   "outputs": [
    {
     "data": {
      "image/png": "[encoded data removed]",
      "text/plain": [
       "<Figure size 432x288 with 1 Axes>"
      ]
     },
     "metadata": {},
     "output_type": "display_data"
    }
   ],
   "source": [
    "df = pd.read_csv(\"C:/Users/Shagun/Downloads/Data2.csv\")\n",
    "df.plot(kind = 'scatter', x = 'Duration', y = 'Calories')\n",
    "plt.show() \n",
    "\n",
    "\n",
    "\n",
    "#Correlation between \"Duration\" and \"Calories\" was 0.922721\n",
    "#From this plot, we know that higher duration means more calories burned."
   ]
  },
  {
   "cell_type": "code",
   "execution_count": 86,
   "metadata": {},
   "outputs": [
    {
     "data": {
      "image/png": "[encoded data removed]",
      "text/plain": [
       "<Figure size 432x288 with 1 Axes>"
      ]
     },
     "metadata": {},
     "output_type": "display_data"
    }
   ],
   "source": [
    "df.plot(kind = 'scatter', x = 'Duration', y = 'Maxpulse')\n",
    "plt.show() \n",
    "\n",
    "\n",
    "#No correlation between the two as evident from the plot"
   ]
  },
  {
   "cell_type": "code",
   "execution_count": 87,
   "metadata": {},
   "outputs": [
    {
     "data": {
      "image/png": "[encoded data removed]",
      "text/plain": [
       "<Figure size 432x288 with 1 Axes>"
      ]
     },
     "metadata": {},
     "output_type": "display_data"
    }
   ],
   "source": [
    "#Histogram to denote frequency\n",
    "\n",
    "df['Duration'].plot(kind = 'hist')\n",
    "plt.show()\n",
    "\n",
    "#over 100 workouts between 50 and 60 mins\n"
   ]
  },
  {
   "cell_type": "code",
   "execution_count": 88,
   "metadata": {},
   "outputs": [
    {
     "data": {
      "image/png": "[encoded data removed]",
      "text/plain": [
       "<Figure size 432x288 with 1 Axes>"
      ]
     },
     "metadata": {},
     "output_type": "display_data"
    }
   ],
   "source": [
    "df['Calories'].plot(kind = 'hist')\n",
    "plt.show()\n",
    "\n",
    "#Maximum calories burnt in a session around 270"
   ]
  },
  {
   "cell_type": "code",
   "execution_count": null,
   "metadata": {
    "collapsed": true
   },
   "outputs": [],
   "source": []
  },
  {
   "cell_type": "code",
   "execution_count": null,
   "metadata": {
    "collapsed": true
   },
   "outputs": [],
   "source": []
  }
 ],
 "metadata": {
  "kernelspec": {
   "display_name": "Python 3",
   "language": "python",
   "name": "python3"
  },
  "language_info": {
   "codemirror_mode": {
    "name": "ipython",
    "version": 3
   },
   "file_extension": ".py",
   "mimetype": "text/x-python",
   "name": "python",
   "nbconvert_exporter": "python",
   "pygments_lexer": "ipython3",
   "version": "3.6.3"
  }
 },
 "nbformat": 4,
 "nbformat_minor": 2
}
