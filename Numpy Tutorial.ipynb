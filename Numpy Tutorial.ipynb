{
 "cells": [
  {
   "cell_type": "code",
   "execution_count": 40,
   "metadata": {
    "collapsed": true
   },
   "outputs": [],
   "source": [
    "import numpy as np\n"
   ]
  },
  {
   "cell_type": "code",
   "execution_count": 41,
   "metadata": {},
   "outputs": [
    {
     "name": "stdout",
     "output_type": "stream",
     "text": [
      "[1 2 3 4 5]\n",
      "[[1 2]\n",
      " [3 4]\n",
      " [5 6]]\n",
      "(3, 2)\n",
      "[[1 2 3]\n",
      " [4 5 6]]\n",
      "[[1 2 3 4 5 6]]\n",
      "[1.+0.j 2.+0.j 3.+0.j 4.+0.j]\n",
      "  C_CONTIGUOUS : True\n",
      "  F_CONTIGUOUS : True\n",
      "  OWNDATA : True\n",
      "  WRITEABLE : True\n",
      "  ALIGNED : True\n",
      "  WRITEBACKIFCOPY : False\n",
      "  UPDATEIFCOPY : False\n"
     ]
    }
   ],
   "source": [
    "#ndarray object\n",
    "\n",
    "\n",
    "x = np.array([1,2,3,4,5])\n",
    "print(x)\n",
    "\n",
    "x = np.array([[1,2],[3,4],[5,6]])\n",
    "print(x)\n",
    "print(x.shape)#To get dimensions\n",
    "x.shape = (2,3)  #change dimensions\n",
    "print(x)\n",
    "\n",
    "\n",
    "x = np.array([1,2,3,4,5,6], ndmin = 2)\n",
    "print(x)\n",
    "\n",
    "x = np.array([1,2,3,4], dtype = complex)\n",
    "print(x)\n",
    "print(x.flags)"
   ]
  },
  {
   "cell_type": "code",
   "execution_count": 42,
   "metadata": {},
   "outputs": [
    {
     "name": "stdout",
     "output_type": "stream",
     "text": [
      "[[0.0000000e+000 6.8181059e-321 2.4703282e-323]\n",
      " [1.4020127e-311 0.0000000e+000 3.2381556e-319]\n",
      " [1.4020127e-311 0.0000000e+000 2.4703282e-323]]\n",
      "[[0 0]\n",
      " [0 0]\n",
      " [0 0]]\n"
     ]
    }
   ],
   "source": [
    "#Empty ndarray obj\n",
    "\n",
    "x = np.empty([3,3], dtype = np.float)\n",
    "print(x)\n",
    "\n",
    "y = np.zeros([3,2], dtype = int)\n",
    "print(y)"
   ]
  },
  {
   "cell_type": "code",
   "execution_count": 43,
   "metadata": {},
   "outputs": [
    {
     "name": "stdout",
     "output_type": "stream",
     "text": [
      "[1. 2. 3. 4. 5.]\n",
      "[b'o' b'o' b'd' b' ' b'M']\n",
      "[0. 1. 2. 3. 4.]\n",
      "[10 15]\n",
      "[10. 12. 14. 16. 18.]\n"
     ]
    }
   ],
   "source": [
    "#nparray from existing data\n",
    "x = [1,2,3,4,5]\n",
    "a = np.asarray(x, dtype = float)\n",
    "print(a)\n",
    "\n",
    "s = b'Good Morning' \n",
    "a = np.frombuffer(s, dtype = 'S1', count = 5, offset= 1) # count = - 1 to print all\n",
    "print(a)\n",
    "\n",
    "\n",
    "x = range(5)\n",
    "i = iter(x)\n",
    "a = np.fromiter(i,dtype = float)\n",
    "print(a)\n",
    "\n",
    "print(np.arange(10,20,5))\n",
    "\n",
    "\n",
    "x = np.linspace(10,20, 5, endpoint = False)  #False to exclude last point\n",
    "print(x)"
   ]
  },
  {
   "cell_type": "code",
   "execution_count": 44,
   "metadata": {},
   "outputs": [
    {
     "name": "stdout",
     "output_type": "stream",
     "text": [
      "[2 4 6]\n",
      "5\n"
     ]
    }
   ],
   "source": [
    "#indexing and slicing\n",
    "\n",
    "# a = np.arange(10) \n",
    "# s = slice(2,7,2) \n",
    "# print(a[s])\n",
    "\n",
    "a = np.arange(10) \n",
    "b = a[2:7:2] \n",
    "print(b)\n",
    "\n",
    "\n",
    "a = np.arange(10) \n",
    "b = a[5] \n",
    "print(b)"
   ]
  },
  {
   "cell_type": "code",
   "execution_count": 45,
   "metadata": {},
   "outputs": [
    {
     "name": "stdout",
     "output_type": "stream",
     "text": [
      "[1 4 5]\n"
     ]
    }
   ],
   "source": [
    "#Integer indexing \n",
    "#Indexing return a copy whereas slicing presents a version \n",
    "\n",
    "x = np.array([[1, 2], [3, 4], [5, 6]]) \n",
    "y = x[[0,1,2], [0,1,0]] \n",
    "print(y)"
   ]
  },
  {
   "cell_type": "code",
   "execution_count": 46,
   "metadata": {},
   "outputs": [
    {
     "name": "stdout",
     "output_type": "stream",
     "text": [
      "Our array is:\n",
      "[[ 0  1  2]\n",
      " [ 3  4  5]\n",
      " [ 6  7  8]\n",
      " [ 9 10 11]]\n",
      "\n",
      "\n",
      "[[ 0  2]\n",
      " [ 9 11]]\n"
     ]
    }
   ],
   "source": [
    "x = np.array([[ 0,  1,  2],[ 3,  4,  5],[ 6,  7,  8],[ 9, 10, 11]]) \n",
    "   \n",
    "print('Our array is:')\n",
    "print(x)\n",
    "print('\\n')\n",
    "\n",
    "rows = np.array([[0,0],[3,3]])\n",
    "cols = np.array([[0,2],[0,2]]) \n",
    "y = x[rows,cols]\n",
    "\n",
    "print(y)"
   ]
  },
  {
   "cell_type": "code",
   "execution_count": null,
   "metadata": {
    "collapsed": true
   },
   "outputs": [],
   "source": []
  }
 ],
 "metadata": {
  "kernelspec": {
   "display_name": "Python 3",
   "language": "python",
   "name": "python3"
  },
  "language_info": {
   "codemirror_mode": {
    "name": "ipython",
    "version": 3
   },
   "file_extension": ".py",
   "mimetype": "text/x-python",
   "name": "python",
   "nbconvert_exporter": "python",
   "pygments_lexer": "ipython3",
   "version": "3.6.3"
  }
 },
 "nbformat": 4,
 "nbformat_minor": 2
}
